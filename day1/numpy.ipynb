{
 "cells": [
  {
   "cell_type": "markdown",
   "metadata": {},
   "source": [
    "# MolSSI Summer School\n",
    "## NumPy"
   ]
  },
  {
   "cell_type": "code",
   "execution_count": 1,
   "metadata": {},
   "outputs": [],
   "source": [
    "import numpy as np"
   ]
  },
  {
   "cell_type": "code",
   "execution_count": 4,
   "metadata": {},
   "outputs": [],
   "source": [
    "# Create some lists\n",
    "r1 = [0.0, 0.1, 0.0]\n",
    "r2 = [0.0, 0.0, 0.0]\n",
    "\n",
    "# Create some numpy arrays\n",
    "r1_array = np.array(r1)\n",
    "r2_array = np.array(r2)"
   ]
  },
  {
   "cell_type": "code",
   "execution_count": 5,
   "metadata": {},
   "outputs": [
    {
     "name": "stdout",
     "output_type": "stream",
     "text": [
      "[0.0, 0.1, 0.0]\n",
      "[0.  0.1 0. ]\n"
     ]
    }
   ],
   "source": [
    "print(r1)\n",
    "print(r1_array)"
   ]
  },
  {
   "cell_type": "code",
   "execution_count": 6,
   "metadata": {},
   "outputs": [
    {
     "data": {
      "text/plain": [
       "array([0. , 0.1, 0. ])"
      ]
     },
     "execution_count": 6,
     "metadata": {},
     "output_type": "execute_result"
    }
   ],
   "source": [
    "# Adding two arrays results in element wise addition\n",
    "print(r1_array + r2_array)"
   ]
  },
  {
   "cell_type": "code",
   "execution_count": 9,
   "metadata": {},
   "outputs": [
    {
     "data": {
      "text/plain": [
       "[0.0, 0.1, 0.0, 0.0, 0.0, 0.0]"
      ]
     },
     "execution_count": 9,
     "metadata": {},
     "output_type": "execute_result"
    }
   ],
   "source": [
    "r1 +r2"
   ]
  },
  {
   "cell_type": "code",
   "execution_count": 10,
   "metadata": {},
   "outputs": [
    {
     "data": {
      "text/plain": [
       "array([2, 3, 0])"
      ]
     },
     "execution_count": 10,
     "metadata": {},
     "output_type": "execute_result"
    }
   ],
   "source": [
    "a1 = np.array([2, 1, 0])\n",
    "a2 = np.array([1, 3, 5])\n",
    "\n",
    "a1 * a2"
   ]
  },
  {
   "cell_type": "code",
   "execution_count": 11,
   "metadata": {},
   "outputs": [
    {
     "data": {
      "text/plain": [
       "5"
      ]
     },
     "execution_count": 11,
     "metadata": {},
     "output_type": "execute_result"
    }
   ],
   "source": [
    "np.dot(a1, a2)"
   ]
  },
  {
   "cell_type": "code",
   "execution_count": 12,
   "metadata": {},
   "outputs": [
    {
     "data": {
      "text/plain": [
       "array([0., 1., 0.])"
      ]
     },
     "execution_count": 12,
     "metadata": {},
     "output_type": "execute_result"
    }
   ],
   "source": [
    "r1_array * 10 # broadcasting: times every element by 10"
   ]
  },
  {
   "cell_type": "code",
   "execution_count": 13,
   "metadata": {},
   "outputs": [],
   "source": [
    "def calculate_distance(rA, rB):\n",
    "    \"\"\"Calculate the distance between points A and B\"\"\"\n",
    "    x_dist = (rA[0]-rB[0])**2\n",
    "    y_dist = (rA[1]-rB[1])**2\n",
    "    z_dist = (rA[2]-rB[2])**2\n",
    "    \n",
    "    distance = np.sqrt(x_dist + y_dist + z_dist)\n",
    "    \n",
    "    return distance"
   ]
  },
  {
   "cell_type": "code",
   "execution_count": 33,
   "metadata": {},
   "outputs": [],
   "source": [
    "# rewrite the function above:\n",
    "def calc_dist(rA, rB):\n",
    "    dist = np.sqrt(np.sum((rA-rB)**2))\n",
    "    \n",
    "    return dist\n",
    "\n",
    "def dist_norm(rA, rB):\n",
    "    dist = np.linalg.norm(rA - rB)\n",
    "    \n",
    "    return dist"
   ]
  },
  {
   "cell_type": "code",
   "execution_count": 34,
   "metadata": {},
   "outputs": [
    {
     "name": "stdout",
     "output_type": "stream",
     "text": [
      "5.477225575051661\n",
      "5.477225575051661\n",
      "5.477225575051661\n"
     ]
    }
   ],
   "source": [
    "print(calculate_distance(a1, a2))\n",
    "print(calc_dist(a1, a2))\n",
    "print(dist_norm(a1,a2))"
   ]
  },
  {
   "cell_type": "code",
   "execution_count": 35,
   "metadata": {},
   "outputs": [
    {
     "name": "stdout",
     "output_type": "stream",
     "text": [
      "[[0.18791163 0.32419563 0.12111319]\n",
      " [0.85132059 0.48532413 0.62193285]\n",
      " [0.26285984 0.56282579 0.57124738]\n",
      " [0.36148596 0.11282844 0.64278347]\n",
      " [0.27162799 0.06755832 0.31547285]\n",
      " [0.26287999 0.60139924 0.02191099]\n",
      " [0.71357657 0.50075628 0.18693521]\n",
      " [0.11262307 0.61769476 0.95169629]\n",
      " [0.81823582 0.13596413 0.85511443]\n",
      " [0.80270054 0.22863367 0.99856518]]\n"
     ]
    }
   ],
   "source": [
    "# create random array\n",
    "coordinates = np.random.random([10, 3])\n",
    "print(coordinates)"
   ]
  },
  {
   "cell_type": "code",
   "execution_count": 75,
   "metadata": {},
   "outputs": [],
   "source": [
    "#help(np.linspace)"
   ]
  },
  {
   "cell_type": "code",
   "execution_count": 37,
   "metadata": {},
   "outputs": [],
   "source": [
    "test_array = np.linspace(0, 10, num = 30)"
   ]
  },
  {
   "cell_type": "code",
   "execution_count": 40,
   "metadata": {},
   "outputs": [
    {
     "name": "stdout",
     "output_type": "stream",
     "text": [
      "the array shape is (30,)\n",
      "our array has 30 elements\n"
     ]
    }
   ],
   "source": [
    "print(F'the array shape is {test_array.shape}')\n",
    "print(F'our array has {test_array.size} elements')"
   ]
  },
  {
   "cell_type": "code",
   "execution_count": 41,
   "metadata": {},
   "outputs": [
    {
     "data": {
      "text/plain": [
       "[<matplotlib.lines.Line2D at 0x7fcc7102fac8>]"
      ]
     },
     "execution_count": 41,
     "metadata": {},
     "output_type": "execute_result"
    },
    {
     "data": {
      "image/png": "[encoded data removed]",
      "text/plain": [
       "<Figure size 432x288 with 1 Axes>"
      ]
     },
     "metadata": {
      "needs_background": "light"
     },
     "output_type": "display_data"
    }
   ],
   "source": [
    "import matplotlib.pyplot as plt\n",
    "from mpl_toolkits import mplot3d\n",
    "\n",
    "%matplotlib inline\n",
    "\n",
    "plt.plot(test_array, 'o')"
   ]
  },
  {
   "cell_type": "code",
   "execution_count": 42,
   "metadata": {},
   "outputs": [
    {
     "name": "stdout",
     "output_type": "stream",
     "text": [
      "[[ 0.          0.34482759  0.68965517]\n",
      " [ 1.03448276  1.37931034  1.72413793]\n",
      " [ 2.06896552  2.4137931   2.75862069]\n",
      " [ 3.10344828  3.44827586  3.79310345]\n",
      " [ 4.13793103  4.48275862  4.82758621]\n",
      " [ 5.17241379  5.51724138  5.86206897]\n",
      " [ 6.20689655  6.55172414  6.89655172]\n",
      " [ 7.24137931  7.5862069   7.93103448]\n",
      " [ 8.27586207  8.62068966  8.96551724]\n",
      " [ 9.31034483  9.65517241 10.        ]]\n"
     ]
    }
   ],
   "source": [
    "reshaped_array = test_array.reshape((10,3))\n",
    "\n",
    "print(reshaped_array)"
   ]
  },
  {
   "cell_type": "code",
   "execution_count": 50,
   "metadata": {},
   "outputs": [
    {
     "name": "stdout",
     "output_type": "stream",
     "text": [
      "[ 0.68965517  1.72413793  2.75862069  3.79310345  4.82758621  5.86206897\n",
      "  6.89655172  7.93103448  8.96551724 10.        ]\n"
     ]
    }
   ],
   "source": [
    "print(reshaped_array[:,2])"
   ]
  },
  {
   "cell_type": "code",
   "execution_count": 51,
   "metadata": {},
   "outputs": [
    {
     "data": {
      "text/plain": [
       "<mpl_toolkits.mplot3d.art3d.Path3DCollection at 0x7fcc96979ef0>"
      ]
     },
     "execution_count": 51,
     "metadata": {},
     "output_type": "execute_result"
    },
    {
     "data": {
      "image/png": "[encoded data removed]",
      "text/plain": [
       "<Figure size 432x288 with 1 Axes>"
      ]
     },
     "metadata": {
      "needs_background": "light"
     },
     "output_type": "display_data"
    }
   ],
   "source": [
    "ax = plt.axes(projection = '3d')\n",
    "ax.scatter3D(reshaped_array[:,0], reshaped_array[:,1], reshaped_array[:,2])"
   ]
  },
  {
   "cell_type": "code",
   "execution_count": 57,
   "metadata": {},
   "outputs": [],
   "source": [
    "dist = [calc_dist(reshaped_array[i], reshaped_array[i+1]) for i in range(len(reshaped_array)-1)]"
   ]
  },
  {
   "cell_type": "code",
   "execution_count": 58,
   "metadata": {},
   "outputs": [
    {
     "data": {
      "text/plain": [
       "[1.7917766974850455,\n",
       " 1.7917766974850455,\n",
       " 1.7917766974850458,\n",
       " 1.7917766974850455,\n",
       " 1.7917766974850458,\n",
       " 1.7917766974850458,\n",
       " 1.7917766974850453,\n",
       " 1.7917766974850462,\n",
       " 1.7917766974850446]"
      ]
     },
     "execution_count": 58,
     "metadata": {},
     "output_type": "execute_result"
    }
   ],
   "source": [
    "dist"
   ]
  },
  {
   "cell_type": "code",
   "execution_count": 66,
   "metadata": {},
   "outputs": [],
   "source": [
    "dist_dict = {}\n",
    "distances = {}\n",
    "for i in range(len(reshaped_array)-1):\n",
    "    dist_dict['%s to %s:' %(str(i), str(i+1))] = calc_dist(reshaped_array[i], reshaped_array[i+1])\n",
    "    # print(F'{i} to {i+1}: {calc_dist(reshaped_array[i], reshaped_array[i+1]}'')\n",
    "    distances[(i, i+1)] = calc_dist(reshaped_array[i], reshaped_array[i+1])   # usinga tuple"
   ]
  },
  {
   "cell_type": "code",
   "execution_count": 67,
   "metadata": {},
   "outputs": [
    {
     "data": {
      "text/plain": [
       "{'0 to 1:': 1.7917766974850455,\n",
       " '1 to 2:': 1.7917766974850455,\n",
       " '2 to 3:': 1.7917766974850458,\n",
       " '3 to 4:': 1.7917766974850455,\n",
       " '4 to 5:': 1.7917766974850458,\n",
       " '5 to 6:': 1.7917766974850458,\n",
       " '6 to 7:': 1.7917766974850453,\n",
       " '7 to 8:': 1.7917766974850462,\n",
       " '8 to 9:': 1.7917766974850446}"
      ]
     },
     "execution_count": 67,
     "metadata": {},
     "output_type": "execute_result"
    }
   ],
   "source": [
    "dist_dict"
   ]
  },
  {
   "cell_type": "code",
   "execution_count": 68,
   "metadata": {},
   "outputs": [
    {
     "data": {
      "text/plain": [
       "{(0, 1): 1.7917766974850455,\n",
       " (1, 2): 1.7917766974850455,\n",
       " (2, 3): 1.7917766974850458,\n",
       " (3, 4): 1.7917766974850455,\n",
       " (4, 5): 1.7917766974850458,\n",
       " (5, 6): 1.7917766974850458,\n",
       " (6, 7): 1.7917766974850453,\n",
       " (7, 8): 1.7917766974850462,\n",
       " (8, 9): 1.7917766974850446}"
      ]
     },
     "execution_count": 68,
     "metadata": {},
     "output_type": "execute_result"
    }
   ],
   "source": [
    "distances"
   ]
  },
  {
   "cell_type": "code",
   "execution_count": 70,
   "metadata": {},
   "outputs": [
    {
     "name": "stdout",
     "output_type": "stream",
     "text": [
      "[[0. 0. 0.]\n",
      " [0. 0. 0.]\n",
      " [0. 0. 0.]\n",
      " [0. 0. 0.]\n",
      " [0. 0. 0.]\n",
      " [0. 0. 0.]\n",
      " [0. 0. 0.]\n",
      " [0. 0. 0.]\n",
      " [0. 0. 0.]\n",
      " [0. 0. 0.]]\n"
     ]
    }
   ],
   "source": [
    "zero_array = np.zeros([10,3])\n",
    "print(zero_array)"
   ]
  },
  {
   "cell_type": "code",
   "execution_count": 73,
   "metadata": {},
   "outputs": [
    {
     "data": {
      "text/plain": [
       "array([ 0.        ,  1.11111111,  2.22222222,  3.33333333,  4.44444444,\n",
       "        5.55555556,  6.66666667,  7.77777778,  8.88888889, 10.        ])"
      ]
     },
     "execution_count": 73,
     "metadata": {},
     "output_type": "execute_result"
    }
   ],
   "source": [
    "value = np.linspace(0,10,10)\n",
    "value"
   ]
  },
  {
   "cell_type": "code",
   "execution_count": 95,
   "metadata": {},
   "outputs": [
    {
     "data": {
      "text/plain": [
       "array([[ 0.        ,  0.        ,  0.        ],\n",
       "       [ 1.11111111,  1.11111111,  1.11111111],\n",
       "       [ 2.22222222,  2.22222222,  2.22222222],\n",
       "       [ 3.33333333,  3.33333333,  3.33333333],\n",
       "       [ 4.44444444,  4.44444444,  4.44444444],\n",
       "       [ 5.55555556,  5.55555556,  5.55555556],\n",
       "       [ 6.66666667,  6.66666667,  6.66666667],\n",
       "       [ 7.77777778,  7.77777778,  7.77777778],\n",
       "       [ 8.88888889,  8.88888889,  8.88888889],\n",
       "       [10.        , 10.        , 10.        ]])"
      ]
     },
     "execution_count": 95,
     "metadata": {},
     "output_type": "execute_result"
    }
   ],
   "source": [
    "# Create an array of 10 evenly spaced points between (0, 0, 0) abd (10, 10, 10)\n",
    "# Solution 1 (my solution)\n",
    "points = []\n",
    "for i in range(len(value)):\n",
    "    point = [value[i], value[i], value[i]]\n",
    "    points.append(point)\n",
    "np.array(points)"
   ]
  },
  {
   "cell_type": "code",
   "execution_count": 94,
   "metadata": {},
   "outputs": [
    {
     "data": {
      "text/plain": [
       "array([[ 0.        ,  0.        ,  0.        ],\n",
       "       [ 1.11111111,  1.11111111,  1.11111111],\n",
       "       [ 2.22222222,  2.22222222,  2.22222222],\n",
       "       [ 3.33333333,  3.33333333,  3.33333333],\n",
       "       [ 4.44444444,  4.44444444,  4.44444444],\n",
       "       [ 5.55555556,  5.55555556,  5.55555556],\n",
       "       [ 6.66666667,  6.66666667,  6.66666667],\n",
       "       [ 7.77777778,  7.77777778,  7.77777778],\n",
       "       [ 8.88888889,  8.88888889,  8.88888889],\n",
       "       [10.        , 10.        , 10.        ]])"
      ]
     },
     "execution_count": 94,
     "metadata": {},
     "output_type": "execute_result"
    }
   ],
   "source": [
    "# Solution 2\n",
    "dim = np.linspace(0,10,num=10)\n",
    "fill_array = np.zeros([10,3])\n",
    "\n",
    "fill_array[:,0]= dim\n",
    "fill_array[:,1]= dim\n",
    "fill_array[:,2]= dim\n",
    "fill_array"
   ]
  },
  {
   "cell_type": "code",
   "execution_count": 96,
   "metadata": {},
   "outputs": [
    {
     "data": {
      "text/plain": [
       "array([[ 0.        ,  0.        ,  0.        ],\n",
       "       [ 1.11111111,  1.11111111,  1.11111111],\n",
       "       [ 2.22222222,  2.22222222,  2.22222222],\n",
       "       [ 3.33333333,  3.33333333,  3.33333333],\n",
       "       [ 4.44444444,  4.44444444,  4.44444444],\n",
       "       [ 5.55555556,  5.55555556,  5.55555556],\n",
       "       [ 6.66666667,  6.66666667,  6.66666667],\n",
       "       [ 7.77777778,  7.77777778,  7.77777778],\n",
       "       [ 8.88888889,  8.88888889,  8.88888889],\n",
       "       [10.        , 10.        , 10.        ]])"
      ]
     },
     "execution_count": 96,
     "metadata": {},
     "output_type": "execute_result"
    }
   ],
   "source": [
    "# Solution 3\n",
    "np.linspace((0,0,0), (10,10,10), num=10)"
   ]
  },
  {
   "cell_type": "code",
   "execution_count": 99,
   "metadata": {},
   "outputs": [
    {
     "data": {
      "text/plain": [
       "array([[ 0.        ,  0.        ,  0.        ],\n",
       "       [ 1.11111111,  1.11111111,  1.11111111],\n",
       "       [ 2.22222222,  2.22222222,  2.22222222],\n",
       "       [ 3.33333333,  3.33333333,  3.33333333],\n",
       "       [ 4.44444444,  4.44444444,  4.44444444],\n",
       "       [ 5.55555556,  5.55555556,  5.55555556],\n",
       "       [ 6.66666667,  6.66666667,  6.66666667],\n",
       "       [ 7.77777778,  7.77777778,  7.77777778],\n",
       "       [ 8.88888889,  8.88888889,  8.88888889],\n",
       "       [10.        , 10.        , 10.        ]])"
      ]
     },
     "execution_count": 99,
     "metadata": {},
     "output_type": "execute_result"
    }
   ],
   "source": [
    "# Solution 4\n",
    "dim = np.linspace(0,10,num=10)\n",
    "dim.repeat(3).reshape([10,3])"
   ]
  },
  {
   "cell_type": "code",
   "execution_count": null,
   "metadata": {},
   "outputs": [],
   "source": []
  }
 ],
 "metadata": {
  "kernelspec": {
   "display_name": "Python 3",
   "language": "python",
   "name": "python3"
  },
  "language_info": {
   "codemirror_mode": {
    "name": "ipython",
    "version": 3
   },
   "file_extension": ".py",
   "mimetype": "text/x-python",
   "name": "python",
   "nbconvert_exporter": "python",
   "pygments_lexer": "ipython3",
   "version": "3.7.3"
  }
 },
 "nbformat": 4,
 "nbformat_minor": 2
}
